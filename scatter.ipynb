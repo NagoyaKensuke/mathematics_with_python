#散布図
import numpy as np
import matplotlib.pyplot as plt

x = np.array([1,2,6,3,5,6])  # x座標
y = np.array([1,5,4,3,1,6])  # y座標

plt.scatter(x, y)  # 散布図のプロット
plt.grid()
plt.show()
