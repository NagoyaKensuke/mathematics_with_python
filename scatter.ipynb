#散布図
import numpy as np
import matplotlib.pyplot as plt

x = np.array([1,2,6,3,5,6])  
y = np.array([1,5,4,3,1,6])  

plt.scatter(x, y)
plt.grid()
plt.show()
